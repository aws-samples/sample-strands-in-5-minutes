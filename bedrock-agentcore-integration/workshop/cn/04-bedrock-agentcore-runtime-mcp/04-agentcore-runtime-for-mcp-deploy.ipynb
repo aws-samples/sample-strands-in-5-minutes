{
 "cells": [
  {
   "cell_type": "markdown",
   "id": "main-title",
   "metadata": {},
   "source": [
    "# 在 Bedrock AgentCore Runtime 中部署 MCP 服务器\n",
    "\n",
    "本研讨会演示如何使用 Amazon Bedrock AgentCore Runtime 部署和使用模型上下文协议（MCP）服务器，为 AI 代理实现可扩展和安全的自定义工具部署。\n",
    "\n",
    "## 概述\n",
    "\n",
    "在本实验中，您将：\n",
    "- 创建具有网络搜索功能的自定义 MCP 服务器\n",
    "- 使用 Amazon Cognito 设置身份验证\n",
    "- 将 MCP 服务器部署到 Bedrock AgentCore Runtime\n",
    "- 使用 Strands Agents 测试已部署的服务器\n",
    "- 了解清理程序"
   ]
  },
  {
   "cell_type": "markdown",
   "id": "09619786",
   "metadata": {},
   "source": [
    "## 先决条件\n",
    "\n",
    "开始本实验之前，请确保您具备：\n",
    "- 已配置 AWS 凭证（IAM 角色或环境变量）\n",
    "- 已安装所需的 Python 包\n",
    "- 对 MCP 和 Bedrock AgentCore 概念有基本了解\n",
    "\n",
    "如果您没有在假设 IAM 角色的环境中运行，请将您的 AWS 凭证设置为环境变量："
   ]
  },
  {
   "cell_type": "code",
   "execution_count": null,
   "id": "0b68362f",
   "metadata": {},
   "outputs": [],
   "source": [
    "import os\n",
    "\n",
    "#os.environ[\"AWS_ACCESS_KEY_ID\"]=<YOUR ACCESS KEY>\n",
    "#os.environ[\"AWS_SECRET_ACCESS_KEY\"]=<YOUR SECRET KEY>\n",
    "#os.environ[\"AWS_SESSION_TOKEN\"]=<OPTIONAL - YOUR SESSION TOKEN IF TEMP CREDENTIAL>\n",
    "#os.environ[\"AWS_REGION\"]=<AWS REGION WITH BEDROCK AGENTCORE AVAILABLE>"
   ]
  },
  {
   "cell_type": "markdown",
   "id": "cd4c88bd",
   "metadata": {},
   "source": [
    "为 MCP 服务器开发、Strands Agents 和 Bedrock AgentCore SDK 安装所需的包："
   ]
  },
  {
   "cell_type": "code",
   "execution_count": null,
   "id": "85df8338-241f-4c97-bed9-bf598e6d4a44",
   "metadata": {},
   "outputs": [],
   "source": [
    "#%pip install -q ddgs mcp strands-agents strands-agents-tools bedrock-agentcore bedrock-agentcore-starter-toolkit "
   ]
  },
  {
   "cell_type": "markdown",
   "id": "what-is-mcp",
   "metadata": {},
   "source": [
    "## 什么是用于 MCP 的 Bedrock AgentCore Runtime？\n",
    "\n",
    "Amazon Bedrock AgentCore Runtime 允许您将模型上下文协议（MCP）服务器部署为托管的可扩展服务。主要优势包括：\n",
    "\n",
    "- **可扩展性**：根据需求自动扩展\n",
    "- **安全性**：内置身份验证和授权\n",
    "- **托管基础设施**：无需管理服务器或容器\n",
    "- **集成**：与 Bedrock 服务无缝集成\n",
    "\n",
    "MCP 服务器提供 AI 代理可以用来扩展其功能的工具和资源，例如网络搜索、数据库访问或自定义业务逻辑。"
   ]
  },
  {
   "cell_type": "markdown",
   "id": "create-mcp-server",
   "metadata": {},
   "source": [
    "### 创建自定义 MCP 服务器\n",
    "\n",
    "让我们创建一个使用 DuckDuckGo 提供网络搜索功能的简单 MCP 服务器。该服务器将部署到 AgentCore Runtime 以供可扩展使用。"
   ]
  },
  {
   "cell_type": "code",
   "execution_count": null,
   "id": "11f9a24b-1cd0-46e4-bb68-05daeb29e814",
   "metadata": {},
   "outputs": [],
   "source": [
    "%%writefile mcp_server.py\n",
    "from mcp.server.fastmcp import FastMCP\n",
    "from ddgs import DDGS\n",
    "from ddgs.exceptions import RatelimitException, DDGSException\n",
    "\n",
    "mcp = FastMCP(host=\"0.0.0.0\", stateless_http=True)\n",
    "\n",
    "# Define a websearch tool\n",
    "@mcp.tool()\n",
    "def websearch(keywords: str, region: str = \"us-en\", max_results: int | None = None) -> list:\n",
    "    \"\"\"Search the web to get updated information.\n",
    "    Args:\n",
    "        keywords (str): The search query keywords.\n",
    "        region (str): The search region: wt-wt, us-en, uk-en, ru-ru, etc..\n",
    "        max_results (int | None): The maximum number of results to return.\n",
    "    Returns:\n",
    "        List of dictionaries with search results.\n",
    "    \"\"\"\n",
    "    try:\n",
    "        results = DDGS().text(keywords, region=region, max_results=max_results)\n",
    "        return results if results else \"No results found.\"\n",
    "    except RatelimitException:\n",
    "        return \"RatelimitException: Please try again after a short delay.\"\n",
    "    except DDGSException as d:\n",
    "        return f\"DuckDuckGoSearchException: {d}\"\n",
    "    except Exception as e:\n",
    "        return f\"Exception: {e}\"\n",
    "\n",
    "if __name__ == \"__main__\":\n",
    "    mcp.run(transport=\"streamable-http\")"
   ]
  },
  {
   "cell_type": "code",
   "execution_count": null,
   "id": "703e9437-537a-4f97-b31f-90ed9e382ff0",
   "metadata": {},
   "outputs": [],
   "source": [
    "%%writefile requirements.txt\n",
    "ddgs\n",
    "mcp"
   ]
  },
  {
   "cell_type": "markdown",
   "id": "local-test",
   "metadata": {},
   "source": [
    "## MCP 服务器的本地测试\n",
    "\n",
    "在部署到 AgentCore Runtime 之前，先在本地测试 MCP 服务器。\n",
    "\n",
    "### 步骤 1：启动 MCP 服务器\n",
    "\n",
    "在终端中运行 MCP 服务器：\n",
    "\n",
    "```bash\n",
    "uv pip install -r requirements.txt\n",
    "uv run mcp_server.py\n",
    "```\n",
    "or\n",
    "```bash\n",
    "pip install -r requirements.txt\n",
    "python mcp_server.py\n",
    "```\n",
    "\n",
    "### 步骤 2：使用 Strands Agent 测试\n",
    "\n",
    "执行以下代码来测试集成："
   ]
  },
  {
   "cell_type": "code",
   "execution_count": null,
   "id": "352ee559",
   "metadata": {},
   "outputs": [],
   "source": [
    "from strands import Agent\n",
    "from strands.tools.mcp import MCPClient\n",
    "from mcp.client.streamable_http import streamablehttp_client\n",
    "\n",
    "# Connect to the web search MCP server\n",
    "print(\"\\nConnecting to MCP Server...\")\n",
    "mcp_url = f\"http://localhost:8000/mcp\"\n",
    "websearch_server = MCPClient(lambda: streamablehttp_client(mcp_url))\n",
    "\n",
    "with websearch_server:\n",
    "    mcp_tools = (websearch_server.list_tools_sync())\n",
    "    print(f\"Available MCP tools: {[tool.tool_name for tool in mcp_tools]}\")\n",
    "\n",
    "    # Create agent with all tools\n",
    "    agent = Agent(\n",
    "        model=\"us.anthropic.claude-3-7-sonnet-20250219-v1:0\",  # Optional: Specify the model ID\n",
    "        #system_prompt=\"You are a helpful assistant that provides concise responses.\",\n",
    "        system_prompt=\"\"\"你是一位乐于助人的助手，提供简洁的答复。\"\"\",\n",
    "        tools=mcp_tools,\n",
    "    )\n",
    "\n",
    "    #response = agent(\"Search for a coffee maker on amazon.com and extract details of the first one\")\n",
    "    response = agent(\"在 amazon.com 上搜索咖啡机并提取第一款咖啡机的详细信息\")\n",
    "    print(response) "
   ]
  },
  {
   "cell_type": "markdown",
   "id": "setup-auth",
   "metadata": {},
   "source": [
    "## 在 Bedrock AgentCore Runtime 中部署带身份验证的 MCP 服务器\n",
    "\n",
    "现在我们将配置 MCP 服务器并将其部署到 Bedrock AgentCore Runtime。此过程涉及创建依赖项、配置身份验证和部署服务。\n",
    "![bedrock-agentcore-runtime-launch](images/runtime-launch.png)\n",
    "\n",
    "### 步骤 1：设置 Amazon Cognito 身份验证\n",
    "\n",
    "为已部署的 MCP 服务器创建 Cognito 用户池以实现安全访问。\n",
    "\n",
    "创建的组件\n",
    "- **用户池**：管理用户身份\n",
    "- **应用客户端**：启用应用程序身份验证\n",
    "- **测试用户**：用于测试身份验证流程"
   ]
  },
  {
   "cell_type": "code",
   "execution_count": null,
   "id": "5167555a",
   "metadata": {},
   "outputs": [],
   "source": [
    "import boto3\n",
    "\n",
    "region = boto3.session.Session().region_name\n",
    "\n",
    "# Initialize Cognito client\n",
    "cognito_client = boto3.client('cognito-idp', region_name=region)\n",
    "\n",
    "\n",
    "# Create User Pool\n",
    "user_pool_response = cognito_client.create_user_pool(\n",
    "    PoolName='MCPServerPool',\n",
    "    Policies={\n",
    "        'PasswordPolicy': {\n",
    "            'MinimumLength': 8\n",
    "        }\n",
    "    }\n",
    ")\n",
    "cognito_pool_id = user_pool_response['UserPool']['Id']\n",
    "\n",
    "# Create App Client\n",
    "app_client_response = cognito_client.create_user_pool_client(\n",
    "    UserPoolId=cognito_pool_id,\n",
    "    ClientName='MCPServerPoolClient',\n",
    "    GenerateSecret=False,\n",
    "    ExplicitAuthFlows=[\n",
    "        'ALLOW_USER_PASSWORD_AUTH',\n",
    "        'ALLOW_REFRESH_TOKEN_AUTH'\n",
    "    ]\n",
    ")\n",
    "cognito_client_id = app_client_response['UserPoolClient']['ClientId']\n",
    "\n",
    "# Create User\n",
    "cognito_client.admin_create_user(\n",
    "    UserPoolId=cognito_pool_id,\n",
    "    Username='testuser',\n",
    "    TemporaryPassword='Temp123!',\n",
    "    MessageAction='SUPPRESS'\n",
    ")\n",
    "\n",
    "# Set Permanent Password\n",
    "cognito_client.admin_set_user_password(\n",
    "    UserPoolId=cognito_pool_id,\n",
    "    Username='testuser',\n",
    "    Password='MyPassword123!',\n",
    "    Permanent=True\n",
    ")\n",
    "\n",
    "\n",
    "# Output the required values\n",
    "print(f\"Pool id: {cognito_pool_id}\")\n",
    "print(f\"Discovery URL: https://cognito-idp.{region}.amazonaws.com/{cognito_pool_id}/.well-known/openid-configuration\")\n",
    "print(f\"Client ID: {cognito_client_id}\")"
   ]
  },
  {
   "cell_type": "markdown",
   "id": "4b53220d",
   "metadata": {},
   "source": [
    "### 步骤 2：配置 Bedrock AgentCore Runtime\n",
    "\n",
    "Set up the Bedrock AgentCore Runtime configuration with automatic resource creation.\n",
    "\n",
    "**Generated Artifacts:**\n",
    "This step creates essential deployment files:\n",
    "- **Dockerfile**: Container configuration for the MCP Server\n",
    "- **.dockerignore**: list the excluded files when docker build\n",
    "- **.bedrock_agentcore.yaml**: Runtime deployment configuration"
   ]
  },
  {
   "cell_type": "code",
   "execution_count": null,
   "id": "e8cdf5d6-5b9a-4351-b34d-92676080644b",
   "metadata": {},
   "outputs": [],
   "source": [
    "from bedrock_agentcore_starter_toolkit import Runtime\n",
    "import boto3\n",
    "\n",
    "region = boto3.session.Session().region_name\n",
    "print(f\"Using AWS region: {region}\")\n",
    "\n",
    "agentcore_runtime = Runtime()\n",
    "\n",
    "print(\"Configuring AgentCore Runtime...\")\n",
    "response = agentcore_runtime.configure(\n",
    "    entrypoint=\"mcp_server.py\",\n",
    "    auto_create_execution_role=True,\n",
    "    auto_create_ecr=True,\n",
    "    requirements_file=\"requirements.txt\",\n",
    "    region=region,\n",
    "    protocol=\"MCP\",\n",
    "    agent_name=\"mcp_server_agentcore\",\n",
    "    authorizer_configuration={\n",
    "        \"customJWTAuthorizer\": {\n",
    "            \"allowedClients\": [cognito_client_id],\n",
    "            \"discoveryUrl\": f\"https://cognito-idp.{region}.amazonaws.com/{cognito_pool_id}/.well-known/openid-configuration\",\n",
    "        }\n",
    "    }\n",
    ")\n",
    "print(\"Configuration completed ✓\")"
   ]
  },
  {
   "cell_type": "markdown",
   "id": "deploy-runtime",
   "metadata": {},
   "source": [
    "### 步骤 3：部署到 Bedrock AgentCore Runtime\n",
    "\n",
    "使用 AWS CodeBuild 启动部署过程以进行容器化和部署。\n",
    "\n",
    "**部署过程：**\n",
    "- 构建 MCP 服务器的容器化版本\n",
    "- 创建所需的 AWS 资源（ECR 存储库、IAM 角色）\n",
    "- 将容器镜像推送到 Amazon ECR\n",
    "- 作为托管的自动扩展服务部署到 AgentCore Runtime"
   ]
  },
  {
   "cell_type": "code",
   "execution_count": null,
   "id": "538b3b2e-2ffd-4c00-acd9-b1544aa1563f",
   "metadata": {},
   "outputs": [],
   "source": [
    "launch_result = agentcore_runtime.launch()"
   ]
  },
  {
   "cell_type": "markdown",
   "id": "cbc46255",
   "metadata": {},
   "source": [
    "### 验证部署状态\n",
    "\n",
    "检查部署状态并等待运行时准备就绪："
   ]
  },
  {
   "cell_type": "code",
   "execution_count": null,
   "id": "5b406c83-3e70-4865-afc6-0617e8ed8e1b",
   "metadata": {},
   "outputs": [],
   "source": [
    "import time\n",
    "\n",
    "print(\"Checking AgentCore Runtime status...\")\n",
    "status_response = agentcore_runtime.status()\n",
    "status = status_response.endpoint['status']\n",
    "print(f\"Initial status: {status}\")\n",
    "\n",
    "end_status = ['READY', 'CREATE_FAILED', 'DELETE_FAILED', 'UPDATE_FAILED']\n",
    "while status not in end_status:\n",
    "    print(f\"Status: {status} - waiting...\")\n",
    "    time.sleep(10)\n",
    "    status_response = agentcore_runtime.status()\n",
    "    status = status_response.endpoint['status']\n",
    "\n",
    "if status == 'READY':\n",
    "    print(\"✓ AgentCore Runtime is READY!\")\n",
    "else:\n",
    "    print(f\"⚠ AgentCore Runtime status: {status}\")\n",
    "    \n",
    "print(f\"Final status: {status}\")\n",
    "\n",
    "mcp_runtime_id = launch_result.agent_id\n",
    "mcp_runtime_arn = launch_result.agent_arn\n",
    "mcp_ecr_repo_name = launch_result.ecr_uri.split('/')[1]\n",
    "print(f\"MCP AgentCore Runtime ID: {mcp_runtime_id}\")\n",
    "print(f\"MCP AgentCore Runtime ARN: {mcp_runtime_arn}\")\n",
    "print(f\"ECR Repo for MCP AgentCore Runtime: {mcp_ecr_repo_name}\")"
   ]
  },
  {
   "cell_type": "markdown",
   "id": "test-deployed",
   "metadata": {},
   "source": [
    "### 使用 Strands Agent 测试已部署的 MCP 服务器作为工具\n",
    "\n",
    "现在让我们通过 Bedrock AgentCore Runtime 端点连接到已部署的 MCP 服务器并进行适当的身份验证来测试它。"
   ]
  },
  {
   "cell_type": "code",
   "execution_count": null,
   "id": "a6e6cd23-af2e-4bd5-b4a1-32c7d89f19fb",
   "metadata": {},
   "outputs": [],
   "source": [
    "from strands import Agent\n",
    "from strands.tools.mcp import MCPClient\n",
    "from mcp.client.streamable_http import streamablehttp_client\n",
    "import boto3\n",
    "\n",
    "# Get bearer token (access token) from Cognito Auth \n",
    "cognito_client = boto3.client('cognito-idp', region_name=boto3.session.Session().region_name)\n",
    "auth_response = cognito_client.initiate_auth(\n",
    "    ClientId=cognito_client_id,\n",
    "    AuthFlow='USER_PASSWORD_AUTH',\n",
    "    AuthParameters={\n",
    "        'USERNAME': 'testuser',\n",
    "        'PASSWORD': 'MyPassword123!'\n",
    "    }\n",
    ")\n",
    "bearer_token = auth_response['AuthenticationResult']['AccessToken']\n",
    "\n",
    "mcp_runtime_arn = launch_result.agent_arn\n",
    "encoded_arn = mcp_runtime_arn.replace(':', '%3A').replace('/', '%2F')\n",
    "\n",
    "# Connect to the Web Search MCP server\n",
    "print(\"\\nConnecting to MCP Server...\")\n",
    "mcp_url = f\"https://bedrock-agentcore.{region}.amazonaws.com/runtimes/{encoded_arn}/invocations?qualifier=DEFAULT\"\n",
    "headers = {\n",
    "    \"Authorization\": f\"Bearer {bearer_token}\",\n",
    "    #\"Content-Type\": \"application/json\"\n",
    "}\n",
    "websearch_server = MCPClient(lambda: streamablehttp_client(mcp_url, headers))\n",
    "\n",
    "with websearch_server:\n",
    "    mcp_tools = (websearch_server.list_tools_sync())\n",
    "    print(f\"Available tools: {[tool.tool_name for tool in mcp_tools]}\")\n",
    "\n",
    "    # Create agent with all tools\n",
    "    agent = Agent(\n",
    "        model=\"us.anthropic.claude-3-7-sonnet-20250219-v1:0\",  # Optional: Specify the model ID\n",
    "        #system_prompt=\"You are a helpful assistant that provides concise responses.\",\n",
    "        system_prompt=\"\"\"你是一位乐于助人的助手，提供简洁的答复。\"\"\",\n",
    "        tools=mcp_tools,\n",
    "    )\n",
    "\n",
    "    #response = agent(\"Search for a coffee maker on amazon.com and extract details of the first one\")\n",
    "    response = agent(\"在 amazon.com 上搜索咖啡机并提取第一款咖啡机的详细信息\")\n",
    "    print(response) "
   ]
  },
  {
   "cell_type": "markdown",
   "id": "6a29d5a6",
   "metadata": {},
   "source": [
    "Let's examine the detailed execution flow of the agent loop to understand how the agent processes requests and generates responses:"
   ]
  },
  {
   "cell_type": "code",
   "execution_count": null,
   "id": "f4438701-c52b-4a87-a9ee-85cf51f4352b",
   "metadata": {},
   "outputs": [],
   "source": [
    "print(\"Agent Loop Detail\")\n",
    "print(\"-----------------\")\n",
    "\n",
    "print(f\"Agent Loop Length: {len(agent.messages)})\")\n",
    "print(\"\\nUser-Assistant Conversation:\")\n",
    "for message in agent.messages:\n",
    "    print(message)"
   ]
  },
  {
   "cell_type": "markdown",
   "id": "ce559f89",
   "metadata": {},
   "source": [
    "### 为实验 5 保存配置\n",
    "\n",
    "存储部署参数以在下一个实验中使用："
   ]
  },
  {
   "cell_type": "code",
   "execution_count": null,
   "id": "57255eed",
   "metadata": {},
   "outputs": [],
   "source": [
    "%store cognito_client_id\n",
    "%store cognito_pool_id\n",
    "%store mcp_runtime_arn\n",
    "%store mcp_runtime_id\n",
    "%store mcp_ecr_repo_name"
   ]
  },
  {
   "cell_type": "markdown",
   "id": "4315b653",
   "metadata": {},
   "source": [
    "## 资源清理（可选）\n",
    "\n",
    "**⚠️ 如果继续进行实验 5，请跳过此部分**\n",
    "\n",
    "清理已部署的资源："
   ]
  },
  {
   "cell_type": "code",
   "execution_count": null,
   "id": "a45bb7e0",
   "metadata": {},
   "outputs": [],
   "source": [
    "import boto3\n",
    "import os\n",
    "\n",
    "agentcore_control_client = boto3.client('bedrock-agentcore-control', region_name=region)\n",
    "ecr_client = boto3.client('ecr',region_name=region)\n",
    "cognito_client = boto3.client('cognito-idp', region_name=region)\n",
    "\n",
    "try:\n",
    "    print(\"Deleting AgentCore Runtime...\")\n",
    "    agentcore_control_client.delete_agent_runtime(agentRuntimeId=launch_result.agent_id)\n",
    "    print(\"✓ AgentCore Runtime deletion initiated\")\n",
    "\n",
    "    print(\"Deleting ECR repository...\")\n",
    "    ecr_client.delete_repository(repositoryName=launch_result.ecr_uri.split('/')[1], force=True)\n",
    "    print(\"✓ ECR repository deleted\")\n",
    "\n",
    "    print(\"Deleting Cognito User Pool...\")\n",
    "    cognito_client.delete_user_pool(UserPoolId=cognito_pool_id)\n",
    "    print(\"✓ Cognito User Pool deleted\")\n",
    "\n",
    "    print(\"Deleting Bedrock AgentCore configuration file...\")\n",
    "    os.remove(\".bedrock_agentcore.yaml\") \n",
    "    print(\"✓ .bedrock_agentcore.yaml deleted\")\n",
    "except Exception as e:\n",
    "    print(f\"❌ Error during cleanup: {e}\")\n",
    "    print(\"You may need to manually clean up some resources.\")"
   ]
  }
 ],
 "metadata": {
  "kernelspec": {
   "display_name": "Python 3",
   "language": "python",
   "name": "python3"
  },
  "language_info": {
   "codemirror_mode": {
    "name": "ipython",
    "version": 3
   },
   "file_extension": ".py",
   "mimetype": "text/x-python",
   "name": "python",
   "nbconvert_exporter": "python",
   "pygments_lexer": "ipython3",
   "version": "3.12.7"
  }
 },
 "nbformat": 4,
 "nbformat_minor": 5
}
