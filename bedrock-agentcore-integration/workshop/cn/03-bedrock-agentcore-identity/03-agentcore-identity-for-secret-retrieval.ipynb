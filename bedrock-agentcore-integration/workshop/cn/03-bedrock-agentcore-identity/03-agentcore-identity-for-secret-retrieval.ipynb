{
 "cells": [
  {
   "cell_type": "markdown",
   "id": "main-title",
   "metadata": {},
   "source": [
    "# 使用 Bedrock AgentCore Identity 保护凭证\n",
    "\n",
    "本研讨会演示如何将 Strands Agents 与 Amazon Bedrock AgentCore Identity 集成，以在构建 AI 代理时安全地管理外部服务的 API 密钥和凭证。\n",
    "\n",
    "## 概述\n",
    "\n",
    "在本实验中，您将：\n",
    "- 了解安全凭证管理挑战\n",
    "- 理解 Bedrock AgentCore Identity 功能\n",
    "- 为外部服务创建 API 密钥凭证提供程序\n",
    "- 在 AI 代理中测试安全凭证检索\n",
    "- 探索凭证管理的最佳实践"
   ]
  },
  {
   "cell_type": "markdown",
   "id": "09619786",
   "metadata": {},
   "source": [
    "## 先决条件\n",
    "\n",
    "开始本实验之前，请确保您具备：\n",
    "- 已配置 AWS 凭证（IAM 角色或环境变量）\n",
    "- 已安装所需的 Python 包\n",
    "- 对 Strands Agents 和 Bedrock AgentCore 概念有基本了解\n",
    "- 用于测试的外部 API 密钥（例如 Exa API 密钥）\n",
    "\n",
    "如果您没有在假设 IAM 角色的环境中运行，请将您的 AWS 凭证设置为环境变量："
   ]
  },
  {
   "cell_type": "code",
   "execution_count": null,
   "id": "9ddff137",
   "metadata": {},
   "outputs": [],
   "source": [
    "import os\n",
    "\n",
    "#os.environ[\"AWS_ACCESS_KEY_ID\"]=<YOUR ACCESS KEY>\n",
    "#os.environ[\"AWS_SECRET_ACCESS_KEY\"]=<YOUR SECRET KEY>\n",
    "#os.environ[\"AWS_SESSION_TOKEN\"]=<OPTIONAL - YOUR SESSION TOKEN IF TEMP CREDENTIAL>\n",
    "#os.environ[\"AWS_REGION\"]=<AWS REGION WITH BEDROCK AGENTCORE AVAILABLE>"
   ]
  },
  {
   "cell_type": "markdown",
   "id": "cd4c88bd",
   "metadata": {},
   "source": [
    "为 Strands Agents 和 Bedrock AgentCore Python SDK 安装所需的包："
   ]
  },
  {
   "cell_type": "code",
   "execution_count": null,
   "id": "50921df1",
   "metadata": {},
   "outputs": [],
   "source": [
    "#%pip install -q strands-agents strands-agents-tools bedrock-agentcore"
   ]
  },
  {
   "cell_type": "markdown",
   "id": "53e1a5c3",
   "metadata": {},
   "source": [
    "## 获取 Exa API 密钥以连接远程 Exa MCP\n",
    "\n",
    "在本实验中，我们将与 [远程 Exa MCP](https://docs.exa.ai/reference/exa-mcp) 交互，通过 Exa 搜索 API 执行实时网络搜索，这需要 Exa API 密钥来连接。\n",
    "\n",
    "Exa MCP 服务器 URL：```https://mcp.exa.ai/mcp?exaApiKey=your-exa-api-key```\n",
    "\n",
    "要获取 Exa API 密钥，请前往 [Exa 登录页面](https://dashboard.exa.ai/login) 使用您的电子邮件注册。\n",
    "\n",
    "然后前往 Exa 仪表板中的 [API 密钥部分](https://dashboard.exa.ai/api-keys) 创建 API 密钥。将 API 密钥复制到下面代码中的 `EXA_API_KEY`..."
   ]
  },
  {
   "cell_type": "markdown",
   "id": "e65876db",
   "metadata": {},
   "source": [
    "## 了解凭证管理挑战\n",
    "\n",
    "### 演示不安全的 API 密钥使用\n",
    "\n",
    "让我们首先演示在没有适当凭证管理的情况下尝试使用外部服务（Exa 搜索）时会发生什么。这将显示硬编码或无效 API 密钥所带来的安全风险和身份验证失败。"
   ]
  },
  {
   "cell_type": "code",
   "execution_count": null,
   "id": "47a48d50-3db5-4c1e-84fc-9c6f51acfe8b",
   "metadata": {},
   "outputs": [],
   "source": [
    "from strands import Agent\n",
    "from strands.tools.mcp import MCPClient\n",
    "from mcp.client.streamable_http import streamablehttp_client\n",
    "\n",
    "# !-------- UPDATE THE EXA API KEY HERE  --------!\n",
    "EXA_API_KEY = <YOUR EXA API KEY> \n",
    "\n",
    "# Connect to the weather MCP server\n",
    "print(\"\\nConnecting to MCP Server...\")\n",
    "exa_server = MCPClient(lambda: streamablehttp_client(f\"https://mcp.exa.ai/mcp?exaApiKey={EXA_API_KEY}\"))\n",
    "\n",
    "with exa_server:\n",
    "    # Combine all tools - they all work the same way!\n",
    "    mcp_tools = (\n",
    "        exa_server.list_tools_sync()\n",
    "    )\n",
    "\n",
    "    print(f\"Available tools: {[tool.tool_name for tool in mcp_tools]}\")\n",
    "    \n",
    "    # Create agent with all tools\n",
    "    agent = Agent(model=\"us.anthropic.claude-3-7-sonnet-20250219-v1:0\",\n",
    "                  #system_prompt=\"You are a helpful assistant that provides concise responses.\",\n",
    "                  system_prompt=\"\"\"你是一位乐于助人的助手，提供简洁的答复。\"\"\",\n",
    "                  tools=mcp_tools)\n",
    "\n",
    "    #response = agent(\"Search for a coffee maker on amazon.com and extract details of the first one\")\n",
    "    response = agent(\"在 amazon.com 上搜索咖啡机并提取第一款咖啡机的详细信息\")\n",
    "    print(response)"
   ]
  },
  {
   "cell_type": "markdown",
   "id": "c131d5a7",
   "metadata": {},
   "source": [
    "## 什么是 Bedrock AgentCore Identity？\n",
    "\n",
    "Amazon Bedrock AgentCore Identity 为需要访问外部服务的 AI 代理提供安全的凭证管理。主要优势包括：\n",
    "\n",
    "- **安全存储**：在 AWS Secrets Manager 中存储 API 密钥、令牌和凭证\n",
    "- **运行时检索**：在运行时提供安全的凭证访问，无需硬编码\n",
    "- **访问控制**：与 AWS IAM 集成，实现细粒度访问权限\n",
    "- **审计跟踪**：维护凭证访问日志以进行安全监控\n",
    "- **轮换支持**：支持自动凭证轮换和生命周期管理\n",
    "\n",
    "此服务消除了在应用程序代码中硬编码敏感凭证的需要，降低了安全风险并改善了合规性。"
   ]
  },
  {
   "cell_type": "markdown",
   "id": "create-provider",
   "metadata": {},
   "source": [
    "## 创建安全凭证管理\n",
    "\n",
    "### 步骤 1：创建 API 密钥凭证提供程序\n",
    "\n",
    "现在我们将使用 Bedrock AgentCore Identity 创建一个 API 密钥凭证提供程序。这会将 Exa API 密钥安全地存储在 AWS Secrets Manager 中，并提供一种托管方式来访问它，而无需在代码中暴露凭证。"
   ]
  },
  {
   "cell_type": "code",
   "execution_count": null,
   "id": "4dc7ef09-7a69-4bc9-aa50-8d8703e67573",
   "metadata": {},
   "outputs": [],
   "source": [
    "from bedrock_agentcore.services.identity import IdentityClient\n",
    "import boto3\n",
    "\n",
    "# !-------- UPDATE THE EXA API KEY HERE  --------!\n",
    "EXA_API_KEY = <YOUR EXA API KEY> \n",
    "\n",
    "region = boto3.session.Session().region_name\n",
    "\n",
    "#Configure API Key Provider\n",
    "identity_client = IdentityClient(region=region)\n",
    "\n",
    "api_key_provider = identity_client.create_api_key_credential_provider({\n",
    "    \"name\": \"exa-apikey-provider\",\n",
    "    \"apiKey\": EXA_API_KEY # Replace it with the API key you obtain from the external application vendor, e.g., OpenAI\n",
    "})\n",
    "print(api_key_provider)"
   ]
  },
  {
   "cell_type": "markdown",
   "id": "secure-test",
   "metadata": {},
   "source": [
    "### 步骤 2：测试安全凭证检索\n",
    "\n",
    "现在让我们使用安全凭证检索来测试我们的代理。`@requires_api_key` 装饰器会在运行时自动从凭证提供程序检索 API 密钥，确保我们的代码中没有硬编码的秘密，同时保持安全最佳实践。"
   ]
  },
  {
   "cell_type": "code",
   "execution_count": null,
   "id": "ce2ff8a0-b17d-4fe2-8e6c-b75e660730d2",
   "metadata": {},
   "outputs": [],
   "source": [
    "from bedrock_agentcore.identity.auth import requires_api_key\n",
    "from strands import Agent\n",
    "from strands.tools.mcp import MCPClient\n",
    "from mcp.client.streamable_http import streamablehttp_client\n",
    "\n",
    "@requires_api_key(provider_name=\"exa-apikey-provider\")\n",
    "def need_api_key(*, api_key: str):\n",
    "    print(f'received api key for async func: {api_key}')\n",
    "    return api_key\n",
    "\n",
    "EXA_API_KEY = need_api_key()\n",
    "\n",
    "# Connect to the EXA MCP server\n",
    "print(\"\\nConnecting to MCP Server...\")\n",
    "exa_server = MCPClient(lambda: streamablehttp_client(f\"https://mcp.exa.ai/mcp?exaApiKey={EXA_API_KEY}\"))\n",
    "\n",
    "with exa_server:\n",
    "    # Combine all tools - they all work the same way!\n",
    "    mcp_tools = (\n",
    "        exa_server.list_tools_sync()\n",
    "    )\n",
    "\n",
    "    print(f\"Available tools: {[tool.tool_name for tool in mcp_tools]}\")\n",
    "    \n",
    "    # Create agent with all tools\n",
    "    agent = Agent(model=\"us.anthropic.claude-3-7-sonnet-20250219-v1:0\",\n",
    "                  #system_prompt=\"You are a helpful assistant that provides concise responses.\",\n",
    "                  system_prompt=\"\"\"你是一位乐于助人的助手，提供简洁的答复。\"\"\",\n",
    "                  tools=mcp_tools)\n",
    "\n",
    "    #response = agent(\"Search for a coffee maker on amazon.com and extract details of the first one\")\n",
    "    response = agent(\"在 amazon.com 上搜索咖啡机并提取第一款咖啡机的详细信息\")\n",
    "    print(response)"
   ]
  },
  {
   "cell_type": "markdown",
   "id": "b80ad21e",
   "metadata": {},
   "source": [
    "让我们检查代理循环的详细执行流程，以了解代理如何处理请求并生成响应："
   ]
  },
  {
   "cell_type": "code",
   "execution_count": null,
   "id": "3a463338",
   "metadata": {},
   "outputs": [],
   "source": [
    "print(\"Agent Loop Detail\")\n",
    "print(\"-----------------\")\n",
    "\n",
    "print(f\"Agent Loop Length: {len(agent.messages)})\")\n",
    "print(\"\\nUser-Assistant Conversation:\")\n",
    "for message in agent.messages:\n",
    "    print(message)"
   ]
  },
  {
   "cell_type": "markdown",
   "id": "d1c327e8",
   "metadata": {},
   "source": [
    "## 资源清理（可选）\n",
    "\n",
    "**⚠️ 如果继续进行实验 5，请跳过此部分**\n",
    "\n",
    "清理已部署的资源："
   ]
  },
  {
   "cell_type": "code",
   "execution_count": null,
   "id": "8235e5fd",
   "metadata": {},
   "outputs": [],
   "source": [
    "import boto3\n",
    "\n",
    "region = boto3.session.Session().region_name\n",
    "\n",
    "agentcore_control_client = boto3.client('bedrock-agentcore-control', region_name=region)\n",
    "\n",
    "try:\n",
    "    print(\"Deleting AgentCore Identity...\")\n",
    "    agentcore_control_client.delete_api_key_credential_provider(name=\"exa-apikey-provider\")\n",
    "    print(\"✓ AgentCore Identity deletion initiated\")\n",
    "except Exception as e:\n",
    "    print(f\"❌ Error during cleanup: {e}\")\n",
    "    print(\"You may need to manually clean up some resources.\")"
   ]
  }
 ],
 "metadata": {
  "kernelspec": {
   "display_name": "Python 3",
   "language": "python",
   "name": "python3"
  },
  "language_info": {
   "codemirror_mode": {
    "name": "ipython",
    "version": 3
   },
   "file_extension": ".py",
   "mimetype": "text/x-python",
   "name": "python",
   "nbconvert_exporter": "python",
   "pygments_lexer": "ipython3",
   "version": "3.12.7"
  }
 },
 "nbformat": 4,
 "nbformat_minor": 5
}
