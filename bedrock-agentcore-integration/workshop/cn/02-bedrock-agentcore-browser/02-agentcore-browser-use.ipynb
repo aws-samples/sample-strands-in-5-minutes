{
 "cells": [
  {
   "cell_type": "markdown",
   "id": "main-title",
   "metadata": {},
   "source": [
    "# Strands Agents with Bedrock AgentCore Browser\n",
    "\n",
    "本研讨会演示如何将 Strands Agents 与 Amazon Bedrock AgentCore Browser 集成，以创建能够动态与网络浏览器交互的 AI 代理。\n",
    "\n",
    "## 概述\n",
    "\n",
    "在本实验中，您将：\n",
    "- 了解 Bedrock AgentCore Browser 功能\n",
    "- 使用 Strands Agents 测试浏览器自动化\n",
    "- 以编程方式导航网站并提取信息\n",
    "- 探索浏览器自动化的常见用例\n",
    "- 了解网络交互的最佳实践"
   ]
  },
  {
   "cell_type": "markdown",
   "id": "09619786",
   "metadata": {},
   "source": [
    "## 先决条件\n",
    "\n",
    "开始本实验之前，请确保您具备：\n",
    "- 已配置 AWS 凭证（IAM 角色或环境变量）\n",
    "- 已安装所需的 Python 包\n",
    "- 对 Strands Agents 和 Bedrock AgentCore 概念有基本了解\n",
    "\n",
    "如果您没有在假设 IAM 角色的环境中运行，请将您的 AWS 凭证设置为环境变量："
   ]
  },
  {
   "cell_type": "code",
   "execution_count": null,
   "id": "a8111f9e",
   "metadata": {},
   "outputs": [],
   "source": [
    "import os\n",
    "\n",
    "os.environ[\"AWS_ACCESS_KEY_ID\"]=<YOUR ACCESS KEY>\n",
    "os.environ[\"AWS_SECRET_ACCESS_KEY\"]=<YOUR SECRET KEY>\n",
    "os.environ[\"AWS_SESSION_TOKEN\"]=<OPTIONAL - YOUR SESSION TOKEN IF TEMP CREDENTIAL>\n",
    "os.environ[\"AWS_REGION\"]=<AWS REGION WITH BEDROCK AGENTCORE AVAILABLE>"
   ]
  },
  {
   "cell_type": "markdown",
   "id": "cd4c88bd",
   "metadata": {},
   "source": [
    "为 Strands Agents 和 Bedrock AgentCore Python SDK 安装所需的包："
   ]
  },
  {
   "cell_type": "code",
   "execution_count": null,
   "id": "73c848d4",
   "metadata": {},
   "outputs": [],
   "source": [
    "%pip install -q strands-agents strands-agents-tools bedrock-agentcore playwright"
   ]
  },
  {
   "cell_type": "markdown",
   "id": "c131d5a7",
   "metadata": {},
   "source": [
    "## 什么是 Bedrock AgentCore Browser？\n",
    "\n",
    "Amazon Bedrock AgentCore Browser 是一个强大的工具，使 AI 代理能够在安全的托管环境中动态与网络浏览器交互。主要功能包括：\n",
    "\n",
    "- **网络导航**：以编程方式导航到网站、点击元素和填写表单\n",
    "- **内容提取**：从网页中提取信息并捕获屏幕截图\n",
    "- **安全环境**：在隔离的安全浏览器环境中运行\n",
    "- **JavaScript 执行**：执行自定义 JavaScript 以进行高级网络交互\n",
    "- **会话管理**：在多个操作中维护浏览器会话\n",
    "\n",
    "Browser 工具使代理能够执行需要视觉理解和交互功能的复杂基于网络的任务。"
   ]
  },
  {
   "cell_type": "markdown",
   "id": "e65876db",
   "metadata": {},
   "source": [
    "### 使用浏览器自动化测试 Strands Agent\n",
    "\n",
    "让我们演示使用 AgentCore Browser 进行网络自动化的 Strands Agent。我们将导航到 Amazon，搜索咖啡机，并从第一个结果中提取详细的产品信息。"
   ]
  },
  {
   "cell_type": "code",
   "execution_count": null,
   "id": "d037f5a6",
   "metadata": {},
   "outputs": [],
   "source": [
    "from strands import Agent\n",
    "from strands_tools.browser import AgentCoreBrowser\n",
    "\n",
    "agentcore_browser = AgentCoreBrowser()\n",
    "\n",
    "# Create a recipe assistant agent\n",
    "agent = Agent(\n",
    "    model=\"us.anthropic.claude-3-7-sonnet-20250219-v1:0\",  # Optional: Specify the model ID\n",
    "    #system_prompt=\"\"\"You are a helpful assistant that provides concise responses. \n",
    "    #              When navigate website, please take screenshot for reference.\n",
    "    #              \"\"\",\n",
    "    system_prompt=\"\"\"你是一位乐于助人的助手，提供简洁的答复。\n",
    "                  浏览网站时，请截取屏幕截图以供参考。\n",
    "                  \"\"\",\n",
    "    tools=[agentcore_browser.browser],\n",
    ")\n",
    "\n",
    "#response = agent(\"Search for a coffee maker on amazon.com and extract details of the first one\")\n",
    "response = agent(\"在 amazon.com 上搜索咖啡机并提取第一款咖啡机的详细信息\")\n",
    "print(response)"
   ]
  },
  {
   "cell_type": "markdown",
   "id": "d93c3c66",
   "metadata": {},
   "source": [
    "让我们检查代理循环的详细执行流程，以了解代理如何处理请求和生成响应："
   ]
  },
  {
   "cell_type": "code",
   "execution_count": null,
   "id": "10b2050a",
   "metadata": {},
   "outputs": [],
   "source": [
    "print(\"Agent Loop Detail\")\n",
    "print(\"-----------------\")\n",
    "\n",
    "print(f\"Agent Loop Length: {len(agent.messages)})\")\n",
    "print(\"\\nUser-Assistant Conversation:\")\n",
    "for message in agent.messages:\n",
    "    print(message)"
   ]
  },
  {
   "cell_type": "markdown",
   "id": "07c4afad",
   "metadata": {},
   "source": [
    "## Bedrock AgentCore Browser 的常见用例\n",
    "\n",
    "除了网络搜索之外，Bedrock AgentCore Browser 还支持各种自动化场景：\n",
    "\n",
    "### 网络应用程序测试\n",
    "- 在安全环境中测试网络应用程序\n",
    "- 验证用户界面和功能\n",
    "- 执行自动化质量保证\n",
    "\n",
    "### 数据收集和监控\n",
    "- 从网站提取信息\n",
    "- 监控网站变化和更新\n",
    "- 捕获屏幕截图并记录浏览器会话\n",
    "\n",
    "### 业务流程自动化\n",
    "- 自动化表单提交和数据输入\n",
    "- 执行电子商务交易\n",
    "- 访问在线资源和服务\n",
    "\n",
    "### AI 驱动的网络交互\n",
    "- 构建能够导航网络的 AI 代理\n",
    "- 智能地与网络界面交互\n",
    "- 执行基于网络的任务和工作流程\n",
    "\n",
    "**其他资源：**\n",
    "[Bedrock AgentCore Browser 用例示例](https://docs.aws.amazon.com/bedrock-agentcore/latest/devguide/browser-use-cases.html#browser-use-cases-examples)"
   ]
  }
 ],
 "metadata": {
  "kernelspec": {
   "display_name": "Python 3",
   "language": "python",
   "name": "python3"
  },
  "language_info": {
   "codemirror_mode": {
    "name": "ipython",
    "version": 3
   },
   "file_extension": ".py",
   "mimetype": "text/x-python",
   "name": "python",
   "nbconvert_exporter": "python",
   "pygments_lexer": "ipython3",
   "version": "3.12.7"
  }
 },
 "nbformat": 4,
 "nbformat_minor": 5
}
